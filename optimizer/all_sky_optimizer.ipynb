{
 "cells": [
  {
   "cell_type": "code",
   "execution_count": 3,
   "id": "f3a80f6a-0213-401d-a362-a38fa61a367f",
   "metadata": {},
   "outputs": [],
   "source": [
    "import numpy as np\n",
    "from astropy import units as u\n",
    "from pandeia.engine.perform_calculation import perform_calculation\n",
    "from pandeia.engine.calc_utils import build_default_calc\n",
    "\n",
    "from tqdm import tqdm\n",
    "from matplotlib import pyplot as plt\n"
   ]
  },
  {
   "cell_type": "markdown",
   "id": "02582b80-9aa1-4550-85a4-f2faf9d86432",
   "metadata": {},
   "source": [
    "## Survey Depth and Speed Estimation with `build_survey`\n",
    "\n",
    "This notebook estimates the **5-sigma detection depth** and **survey speed** for an ultrawide Roman survey.\n",
    "\n",
    "### Inputs\n",
    "\n",
    "1. **Exposure time (per dither)**  \n",
    "   Will be matched to the closest C2A_IMG_HLWAS MA table value.\n",
    "\n",
    "2. **Number of dithers**  \n",
    "   The number of exposures per pointing.\n",
    "\n",
    "3. **Filter**  \n",
    "   The imaging filter to use (e.g., `f158`, `f146`).\n",
    "\n",
    "4. **Field**  \n",
    "   Options are:\n",
    "   - `\"high\"` for Galactic latitude |b| > 30°  \n",
    "   - Any other value is assumed to target |b| < 30°\n",
    "\n",
    "### Outputs\n",
    "5-sigma depth (AB mag), Survey Speed (sq deg/day), Survey Overhead rate (%), and Number of Days to cover the specified field.\n"
   ]
  },
  {
   "cell_type": "code",
   "execution_count": 2,
   "id": "1ad29eb4-8b5c-4b09-9ec8-789dbb49a006",
   "metadata": {},
   "outputs": [
    {
     "name": "stderr",
     "output_type": "stream",
     "text": [
      "100%|█████████████████████████████████████████████████| 40/40 [00:08<00:00,  4.68it/s]"
     ]
    },
    {
     "name": "stdout",
     "output_type": "stream",
     "text": [
      "Selected Survey Parameters: f158, 82.22s x 2 = 164.45s total exposure time.\n",
      "Key Outputs:\n",
      "\t5-sigma depth: 25.1 mag\n",
      "\tSurvey Speed: 108.66 sq deg/day\n",
      "\tSurvey Overhead: 26.14 %\n",
      "\tDays to cover |b|>30: 143.8\n"
     ]
    },
    {
     "name": "stderr",
     "output_type": "stream",
     "text": [
      "\n"
     ]
    }
   ],
   "source": [
    "def build_survey(texp=60,\n",
    "                 ndither=3,\n",
    "                 filt='f158',\n",
    "                 field='high'):\n",
    "    \n",
    "    calc = build_default_calc('roman', 'wfi', 'imaging')\n",
    "    calc['configuration']['instrument']['filter'] = filt\n",
    "    \n",
    "    # Assume config for C2A_IMG_HLWAS\n",
    "    # Exposure times are not infinitely adjustable; need to be within the MA table.\n",
    "    c2a_exposures = np.asarray([28.46, 53.762, 79.06,\n",
    "                                104.36, 135.99, 139.15])\n",
    "    c2a_nresultants = np.arange(4,10,1)\n",
    "    nresult = c2a_nresultants[np.argmin(np.abs(c2a_exposures-texp))]\n",
    "    \n",
    "    # Quirk: NRESULTANTS IS +1 FROM MA TABLES!!!\n",
    "    calc['configuration']['detector'] = {\n",
    "        # 'readmode': 'c2a_img_hlwas',\n",
    "        'ma_table_name': 'C2a_IMG_HLWAS',\n",
    "        'subarray': 'full',\n",
    "        'nexp': ndither,\n",
    "        'nint': 1,\n",
    "        'nresultants': nresult+1\n",
    "    }\n",
    "    calc['background'] = 'minzodi'\n",
    "    calc['background_level'] = 'medium'\n",
    "    calc['scene'][0]['spectrum']['normalization']['norm_fluxunit'] = 'abmag'\n",
    "    \n",
    "    # Now seach over grid to find approximate 5-sigma depth\n",
    "    mag_range = np.arange(23, 27, 0.1)\n",
    "    sigma_array = np.zeros_like(mag_range,dtype=np.float32)\n",
    "    for i, mag in tqdm(enumerate(mag_range), total=len(mag_range)):\n",
    "        # # Optional: Modify SED shape for a Gaia source\n",
    "        # calc['scene'][0]['spectrum']['sed']['sed_type'] = 'phoenix'\n",
    "        # calc['scene'][0]['spectrum']['sed']['key'] = 'k0v'\n",
    "        # calc['scene'][0]['spectrum']['normalization'] = {\n",
    "        #     'type': 'photsys',           \n",
    "        #     'norm_flux': mag,            # e.g., G = 21\n",
    "        #     'norm_fluxunit': 'abmag',\n",
    "        #     'bandpass': 'gaia,g',\n",
    "        # }\n",
    "        calc['scene'][0]['spectrum']['normalization']['norm_flux'] = mag\n",
    "        report = perform_calculation(calc)\n",
    "        sigma_array[i] = report['scalar']['sn']\n",
    "\n",
    "    sig5_index = np.argmin(np.abs(5-sigma_array))\n",
    "    \n",
    "    # Now calculate survey speed\n",
    "    science_time = report['scalar']['total_exposure_time']\n",
    "    slew_time = (18.9*(ndither-1) + 39.3)\n",
    "    survey_rate = 0.28*(24*u.hour.to(u.second))/(science_time + slew_time)\n",
    "    survey_overhead = slew_time/(slew_time+science_time)\n",
    "    allsky_sqdeg = (4*np.pi*u.sr).to(u.deg**2).value\n",
    "    print(f\"Selected Survey Parameters: {filt:s}, {science_time/ndither:.2f}s x {ndither:d} = {science_time:.2f}s total exposure time.\")\n",
    "    print(\"Key Outputs:\")\n",
    "    print(f\"\\t5-sigma depth: {mag_range[sig5_index]:.1f} mag\")\n",
    "    print(f\"\\tSurvey Speed: {survey_rate:.2f} sq deg/day\")\n",
    "    print(f\"\\tSurvey Overhead: {survey_overhead*100:.2f} %\")\n",
    "    if field=='high':\n",
    "        print(f\"\\tDays to cover |b|>30: {(allsky_sqdeg/2-5000)/survey_rate:.1f}\")\n",
    "    else:\n",
    "        print(f\"\\tDays to cover |b|<30: {(allsky_sqdeg/2)/survey_rate:.1f} days\")\n",
    "        \n",
    "build_survey(texp=70,ndither=2,filt='f158',field='high')"
   ]
  },
  {
   "cell_type": "code",
   "execution_count": 292,
   "id": "e3fba1bb-a8fb-488c-b3d6-b3f73a745eb0",
   "metadata": {},
   "outputs": [
    {
     "name": "stderr",
     "output_type": "stream",
     "text": [
      "100%|█████████████████████████████████████████████████| 40/40 [00:07<00:00,  5.30it/s]"
     ]
    },
    {
     "name": "stdout",
     "output_type": "stream",
     "text": [
      "Selected Survey Parameters: f158, 107.52s x 2 = 215.05s total exposure time.\n",
      "Key Outputs:\n",
      "\t5-sigma depth: 25.4 mag\n",
      "\tSurvey Speed: 88.53 sq deg/day\n",
      "\tSurvey Overhead: 21.30 %\n",
      "\tDays to cover |b|>30: 176.5\n"
     ]
    },
    {
     "name": "stderr",
     "output_type": "stream",
     "text": [
      "\n"
     ]
    }
   ],
   "source": [
    "build_survey(texp=100,ndither=2,filt='f158',field='high')"
   ]
  },
  {
   "cell_type": "code",
   "execution_count": null,
   "id": "52df8808-6e18-4800-bc68-ebcb4cd70253",
   "metadata": {},
   "outputs": [],
   "source": []
  }
 ],
 "metadata": {
  "kernelspec": {
   "display_name": "Python 3 (ipykernel)",
   "language": "python",
   "name": "python3"
  },
  "language_info": {
   "codemirror_mode": {
    "name": "ipython",
    "version": 3
   },
   "file_extension": ".py",
   "mimetype": "text/x-python",
   "name": "python",
   "nbconvert_exporter": "python",
   "pygments_lexer": "ipython3",
   "version": "3.12.9"
  }
 },
 "nbformat": 4,
 "nbformat_minor": 5
}
